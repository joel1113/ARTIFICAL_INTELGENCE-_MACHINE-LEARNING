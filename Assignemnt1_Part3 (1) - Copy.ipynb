{
  "nbformat": 4,
  "nbformat_minor": 0,
  "metadata": {
    "colab": {
      "provenance": []
    },
    "kernelspec": {
      "name": "python3",
      "display_name": "Python 3"
    },
    "language_info": {
      "name": "python"
    }
  },
  "cells": [
    {
      "cell_type": "code",
      "execution_count": 3,
      "metadata": {
        "colab": {
          "base_uri": "https://localhost:8080/"
        },
        "id": "JJBKntPRZNWz",
        "outputId": "5d306a4e-a343-45ca-a83a-637f8ac38ce8"
      },
      "outputs": [
        {
          "output_type": "stream",
          "name": "stdout",
          "text": [
            "   S.no            Name Roll Number  CGPA\n",
            "0     1      U.Praneeth  2203A51713     8\n",
            "1     2         M.Savan  2203A51730     8\n",
            "2     3         G.Varun  2203A51763     8\n",
            "3     4  P.Sai Praneeth  2203A51763     8\n"
          ]
        }
      ],
      "source": [
        "import pandas as pd\n",
        "\n",
        "# Specify the path to your Excel file\n",
        "excel_file_path = \"/content/Table.xlsx\"\n",
        "\n",
        "# Read the Excel file\n",
        "df = pd.read_excel(excel_file_path)\n",
        "\n",
        "# Now you can work with the DataFrame 'df'\n",
        "print(df.head())"
      ]
    },
    {
      "cell_type": "code",
      "source": [
        "import pandas as pd\n",
        "\n",
        "# Specify the path to your Excel file\n",
        "csv_file_path = \"/content/Table.csv\"\n",
        "\n",
        "# Read the Excel file\n",
        "df = pd.read_csv(csv_file_path)\n",
        "\n",
        "# Now you can work with the DataFrame 'df'\n",
        "print(df.head())"
      ],
      "metadata": {
        "colab": {
          "base_uri": "https://localhost:8080/"
        },
        "id": "7oZajwItZcVB",
        "outputId": "4b78a147-d6c8-4ce5-b268-7f7812d4159f"
      },
      "execution_count": 2,
      "outputs": [
        {
          "output_type": "stream",
          "name": "stdout",
          "text": [
            "   S.no            Name Roll Number  CGPA\n",
            "0     1      U.Praneeth  2203A51713     8\n",
            "1     2         M.Savan  2203A51730     8\n",
            "2     3         G.Varun  2203A51763     8\n",
            "3     4  P.Sai Praneeth  2203A51763     8\n"
          ]
        }
      ]
    },
    {
      "cell_type": "code",
      "source": [
        "import pandas as pd\n",
        "\n",
        "# Specify the path to your Excel file\n",
        "csv_file_path = \"/content/Table.txt\"\n",
        "\n",
        "# Read the Excel file\n",
        "df = pd.read_csv(csv_file_path)\n",
        "\n",
        "# Now you can work with the DataFrame 'df'\n",
        "print(df.head())"
      ],
      "metadata": {
        "colab": {
          "base_uri": "https://localhost:8080/"
        },
        "id": "K9z12H9RacNG",
        "outputId": "d05c7f58-a7b5-4501-b037-9abfec5631f0"
      },
      "execution_count": 1,
      "outputs": [
        {
          "output_type": "stream",
          "name": "stdout",
          "text": [
            "      S.no\\tName\\tRoll Number\\tCGPA\n",
            "0      1\\tU.Praneeth\\t2203A51713\\t8\n",
            "1         2\\tM.Savan\\t2203A51730\\t8\n",
            "2         3\\tG.Varun\\t2203A51763\\t8\n",
            "3  4\\tP.Sai Praneeth\\t2203A51763\\t8\n"
          ]
        }
      ]
    }
  ]
}