{
  "nbformat": 4,
  "nbformat_minor": 0,
  "metadata": {
    "colab": {
      "provenance": []
    },
    "kernelspec": {
      "name": "python3",
      "display_name": "Python 3"
    },
    "language_info": {
      "name": "python"
    }
  },
  "cells": [
    {
      "cell_type": "code",
      "execution_count": null,
      "metadata": {
        "colab": {
          "base_uri": "https://localhost:8080/"
        },
        "id": "C5PLKwJTl1FZ",
        "outputId": "587b2595-5996-417f-f3d6-9894935b8891"
      },
      "outputs": [
        {
          "output_type": "stream",
          "name": "stdout",
          "text": [
            "<class 'list'>\n",
            "<class 'numpy.ndarray'>\n"
          ]
        }
      ],
      "source": [
        "# verification of type of list and array\n",
        "import numpy as np\n",
        "lst1=[12,13,1,4,15,16]\n",
        "array=np.array(lst1)\n",
        "print(type(lst1))\n",
        "print(type(array))"
      ]
    },
    {
      "cell_type": "markdown",
      "source": [
        "implementation of basic data structures using Numpy and Pandas"
      ],
      "metadata": {
        "id": "u50o4nMal8Bd"
      }
    },
    {
      "cell_type": "code",
      "source": [
        "#creation of list using Numpy\n",
        "import numpy as np\n",
        "lst1=[10,11,12,13,14,15]\n",
        "print(\"the list is\",lst1)"
      ],
      "metadata": {
        "colab": {
          "base_uri": "https://localhost:8080/"
        },
        "id": "Kl3fnwgKmHco",
        "outputId": "fe1d5bfd-52bd-434f-b0a9-d93b9f0fe5c1"
      },
      "execution_count": null,
      "outputs": [
        {
          "output_type": "stream",
          "name": "stdout",
          "text": [
            "the list is [10, 11, 12, 13, 14, 15]\n"
          ]
        }
      ]
    },
    {
      "cell_type": "code",
      "source": [
        "#creation of array using Numpy\n",
        "import numpy as np\n",
        "lst1=[10,111,12,13,14,156]\n",
        "arr1=np.array(lst1)\n",
        "arr2=np.array([1,2,3,4,5,6])\n",
        "print(\"The first array is\",arr1)\n",
        "print(\"The second array is\",arr2)\n"
      ],
      "metadata": {
        "colab": {
          "base_uri": "https://localhost:8080/"
        },
        "id": "YVHJc_L6m3Wg",
        "outputId": "b602e4be-c186-4b5c-b2aa-955845824931"
      },
      "execution_count": null,
      "outputs": [
        {
          "output_type": "stream",
          "name": "stdout",
          "text": [
            "The first array is [ 10 111  12  13  14 156]\n",
            "The second array is [1 2 3 4 5 6]\n"
          ]
        }
      ]
    },
    {
      "cell_type": "code",
      "source": [
        "# Implementation of mathematical operations of arrays\n",
        "arr1=np.array([10,11,12,13,14,15])\n",
        "arr2=np.array([100,200,300,400,500,600])\n",
        "arr3=arr1*arr2\n",
        "arr4=arr1/arr2\n",
        "arr5=arr2**arr1\n",
        "arr6=arr1*arr2\n",
        "print(\"The product array is\",arr3)\n",
        "print(\"The divided array is\",arr4)\n",
        "print(\"The power off array is\",arr5)\n",
        "print(\"The another power off array is\",arr6)"
      ],
      "metadata": {
        "colab": {
          "base_uri": "https://localhost:8080/"
        },
        "id": "Bspg3ZRQpblZ",
        "outputId": "1d78842b-c546-4f46-db4f-f8ece0c78066"
      },
      "execution_count": null,
      "outputs": [
        {
          "output_type": "stream",
          "name": "stdout",
          "text": [
            "The product array is [1000 2200 3600 5200 7000 9000]\n",
            "The divided array is [0.1    0.055  0.04   0.0325 0.028  0.025 ]\n",
            "The power off array is [ 7766279631452241920   454253960476229632  7257836327071121408\n",
            "  5444851949490929664  8958380283753660416 -5713836474110050304]\n",
            "The another power off array is [1000 2200 3600 5200 7000 9000]\n"
          ]
        }
      ]
    },
    {
      "cell_type": "code",
      "source": [
        "# Implementation of Addition between to arrays\n",
        "import numpy as np\n",
        "Age1=np.array([10,20,30,40,50])\n",
        "Age2=np.array([15,25,35,45,55])\n",
        "NewAge=Age1+Age2\n",
        "print(\"The resultant age is\", NewAge)"
      ],
      "metadata": {
        "colab": {
          "base_uri": "https://localhost:8080/"
        },
        "id": "KZMapZoCs7p1",
        "outputId": "41dd8725-ae4f-4711-fef4-d50d8e4f969d"
      },
      "execution_count": null,
      "outputs": [
        {
          "output_type": "stream",
          "name": "stdout",
          "text": [
            "The resultant age is [ 25  45  65  85 105]\n"
          ]
        }
      ]
    },
    {
      "cell_type": "code",
      "source": [
        "#Demonstration of enire age list of a factory employee\n",
        "import numpy as np\n",
        "ages = np.array([22,46,72,73,63,61,66,69,54,23,25,30,40,45,50,55,60,65,70,75])\n",
        "senior = ages[ages >= 60]\n",
        "younger = ages[ages < 60]\n",
        "print(\"Senior employees:\", senior)\n",
        "print(\"Younger employees:\", younger)"
      ],
      "metadata": {
        "colab": {
          "base_uri": "https://localhost:8080/"
        },
        "id": "5jIxyddFtxMq",
        "outputId": "9c5ac5e7-68d0-440e-b437-b71368c6a2b6"
      },
      "execution_count": null,
      "outputs": [
        {
          "output_type": "stream",
          "name": "stdout",
          "text": [
            "Senior employees: [72 73 63 61 66 69 60 65 70 75]\n",
            "Younger employees: [22 46 54 23 25 30 40 45 50 55]\n"
          ]
        }
      ]
    },
    {
      "cell_type": "code",
      "source": [
        "#Demonstration of sin,cos,tan,log,exp,log2 of a list\n",
        "import numpy as np\n",
        "lst1=[10,20,30,40,50]\n",
        "arr1=np.array(lst1)\n",
        "arr2=np.sin(arr1)\n",
        "arr3=np.cos(arr1)\n",
        "arr4=np.tan(arr1)\n",
        "arr5=np.log(arr1)\n",
        "arr6=np.log2(arr1)\n",
        "arr7=np.exp(arr1)\n",
        "print(\"The sin array is\",arr2)\n",
        "print(\"The cos array is\",arr3)\n",
        "print(\"The tan array is\",arr4)\n",
        "print(\"The logarithmic array is\",arr5)\n",
        "print(\"The log2 array is\",arr6)\n",
        "print(\"The exponential array is\",arr7)"
      ],
      "metadata": {
        "colab": {
          "base_uri": "https://localhost:8080/"
        },
        "id": "AstHLCv9xvSp",
        "outputId": "b03b5dfb-3ac9-4283-909c-b6aa77decceb"
      },
      "execution_count": null,
      "outputs": [
        {
          "output_type": "stream",
          "name": "stdout",
          "text": [
            "The sin array is [-0.54402111  0.91294525 -0.98803162  0.74511316 -0.26237485]\n",
            "The cos array is [-0.83907153  0.40808206  0.15425145 -0.66693806  0.96496603]\n",
            "The tan array is [ 0.64836083  2.23716094 -6.4053312  -1.11721493 -0.27190061]\n",
            "The logarithmic array is [2.30258509 2.99573227 3.40119738 3.68887945 3.91202301]\n",
            "The log2 array is [3.32192809 4.32192809 4.9068906  5.32192809 5.64385619]\n",
            "The exponential array is [2.20264658e+04 4.85165195e+08 1.06864746e+13 2.35385267e+17\n",
            " 5.18470553e+21]\n"
          ]
        }
      ]
    },
    {
      "cell_type": "code",
      "source": [
        "#Visualization of Scatter plot of a set of healthcare data\n",
        "patients=['ann','ram','sita','ravan','andrew','ashish','satwik','santhosh','sreeja','koushik']\n",
        "Age=[21,20,22,23,19,18,20,]"
      ],
      "metadata": {
        "id": "UCegOErX3CMs"
      },
      "execution_count": null,
      "outputs": []
    },
    {
      "cell_type": "markdown",
      "source": [],
      "metadata": {
        "id": "A_wYJ_6wmvkP"
      }
    }
  ]
}